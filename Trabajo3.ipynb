{
 "cells": [
  {
   "cell_type": "code",
   "execution_count": 43,
   "metadata": {},
   "outputs": [],
   "source": [
    "#Wilson Rodas\n",
    "\n",
    "                                            #ADALINE\n",
    "\n",
    "#La Adaptive Linear Element es una red neuronal desarrollada por Bernard Widrow y Ted Hoff,\n",
    "#basados en el modelo de neurona de McCulloch-Pitts. Su diferencia principal del perceptrón\n",
    "#radica en que toma en cuenta el grado de corrección respecto a la salida deseada. \n",
    "#Busca minimizar la desviación de la red utilizando como método de medida el error cuadrático medio.\n",
    "#Los casos principales para los cuales este tipo de red es útil son:\n",
    "\n",
    "#    • Asociación de patrones, para problemas separables linealmente\n",
    "#    • Realización de filtros de ruido\n",
    "#    • Realizar predicciones adaptativas\n",
    "\n",
    "#Bibliografía\n",
    "#1.   Widow, B. Winter, R. (1998) Neural nets for adaptive filtering and adaptive pattern recognition.\n",
    "#     Universidad de Stanford. Recuperado de: \n",
    "#      https://web.stanford.edu/class/ee373b/NNadaptivefilteringpattrenrecognition.pdf\n",
    "\n",
    "#2. Sotos, j. Sánchez, C. Vayá, C. Cervigon, R. Rieta, J. (2007). \n",
    "#   A learning based Widow-Hoff delta algorithm for noise reduction in biomedical signals. Recuperado de: \n",
    "#   https://link.springer.com/chapter/10.1007/978-3-540-73053-8_38"
   ]
  },
  {
   "cell_type": "code",
   "execution_count": 44,
   "metadata": {},
   "outputs": [],
   "source": [
    "#Importaciones de las librerias\n",
    "\n",
    "import numpy as np\n",
    "import matplotlib.pyplot as plt\n",
    "import math"
   ]
  },
  {
   "cell_type": "code",
   "execution_count": 45,
   "metadata": {
    "scrolled": true
   },
   "outputs": [
    {
     "data": {
      "image/png": "[encoded data removed]",
      "text/plain": [
       "<Figure size 432x288 with 2 Axes>"
      ]
     },
     "metadata": {
      "needs_background": "light"
     },
     "output_type": "display_data"
    }
   ],
   "source": [
    "if __name__ == \"__main__\":\n",
    "    funcion_escalon = lambda x: 1 if x >= 0 else 0\n",
    "    \n",
    "    alfa = 1\n",
    "    \n",
    "    pesos = np.array([[0.40471,-0.58897]]).T\n",
    "    \n",
    "    entradas = np.array([\n",
    "        [-1.61,-2.84],\n",
    "        [0.67,-1.08],\n",
    "        [0.78,-2.38],\n",
    "        [5.10,0.49]\n",
    "    ])\n",
    "    \n",
    "    salidas_deseadas = np.array([[0,1,0,1]]).T\n",
    "    \n",
    "    errores = []\n",
    "    \n",
    "    #Entrenamiento de la red\n",
    "    for iteracion in range(5):\n",
    "        for muestra, salida_deseada in zip(entradas, salidas_deseadas):\n",
    "            salida_calculada = muestra[0] * pesos[0] + muestra[1] * pesos[1]\n",
    "            salida_calculada = funcion_escalon(salida_deseada)\n",
    "        \n",
    "            error = salida_deseada - salida_calculada\n",
    "            errores.append(error)\n",
    "        \n",
    "            pesos[0] = pesos[0] * alfa * error * muestra[0]\n",
    "            pesos[1] = pesos[1] * alfa * error * muestra[1]\n",
    "           \n",
    "    grafica1 = plt.subplot(121)\n",
    "    grafica1.scatter(entradas[:,0], entradas[:, 1],marker='*', label='Muestras')\n",
    "    \n",
    "    grafica2 = plt.subplot(122)\n",
    "    grafica2.plot(errores, c='r', label='Errores')\n",
    "    \n",
    "    plt.legend()\n",
    "    plt.show()"
   ]
  },
  {
   "cell_type": "code",
   "execution_count": null,
   "metadata": {},
   "outputs": [],
   "source": []
  }
 ],
 "metadata": {
  "kernelspec": {
   "display_name": "Python 3",
   "language": "python",
   "name": "python3"
  },
  "language_info": {
   "codemirror_mode": {
    "name": "ipython",
    "version": 3
   },
   "file_extension": ".py",
   "mimetype": "text/x-python",
   "name": "python",
   "nbconvert_exporter": "python",
   "pygments_lexer": "ipython3",
   "version": "3.8.5"
  }
 },
 "nbformat": 4,
 "nbformat_minor": 4
}
